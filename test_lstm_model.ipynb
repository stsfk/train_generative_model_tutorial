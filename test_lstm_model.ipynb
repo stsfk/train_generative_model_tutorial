{
 "cells": [
  {
   "cell_type": "code",
   "execution_count": 1,
   "metadata": {},
   "outputs": [],
   "source": [
    "import torch\n",
    "import torch.nn as nn\n",
    "import torch.optim as optim\n",
    "\n",
    "from torch.utils.data import Dataset\n",
    "\n",
    "import numpy as np\n",
    "\n",
    "import math\n",
    "\n",
    "import time\n",
    "\n",
    "import dataloader\n",
    "import training_fun\n",
    "\n",
    "import HydroErr"
   ]
  },
  {
   "cell_type": "code",
   "execution_count": 2,
   "metadata": {},
   "outputs": [],
   "source": [
    "DEVICE = torch.device(\"cuda\" if torch.cuda.is_available() else \"cpu\")\n",
    "\n",
    "SEQ_LENGTH = 365 * 2\n",
    "TARGET_SEQ_LENGTH = 365\n",
    "BASE_LENGTH = SEQ_LENGTH - TARGET_SEQ_LENGTH\n",
    "\n",
    "FORCING_DIM = 3\n",
    "\n",
    "N_CATCHMENTS = 559\n",
    "\n",
    "# training hyperparameters\n",
    "TRAIN_YEAR = 19\n",
    "\n",
    "memory_saving = True\n",
    "if memory_saving:\n",
    "    storge_device = \"cpu\"\n",
    "    computing_device = DEVICE\n",
    "    VAL_STEPS = 500\n",
    "else:\n",
    "    storge_device = DEVICE\n",
    "    computing_device = DEVICE"
   ]
  },
  {
   "cell_type": "code",
   "execution_count": 3,
   "metadata": {},
   "outputs": [],
   "source": [
    "dtrain = dataloader.Forcing_Data(\n",
    "    \"camels_train.csv\",\n",
    "    record_length=2922,\n",
    "    storge_device=storge_device,\n",
    "    seq_length=SEQ_LENGTH,\n",
    "    target_seq_length=TARGET_SEQ_LENGTH,\n",
    "    base_length=BASE_LENGTH,\n",
    ")\n",
    "\n",
    "dval = dataloader.Forcing_Data(\n",
    "    \"camels_val.csv\",\n",
    "    record_length=1095,\n",
    "    storge_device=storge_device,\n",
    "    seq_length=SEQ_LENGTH,\n",
    "    target_seq_length=TARGET_SEQ_LENGTH,\n",
    "    base_length=BASE_LENGTH,\n",
    ")"
   ]
  },
  {
   "cell_type": "code",
   "execution_count": 4,
   "metadata": {},
   "outputs": [],
   "source": [
    "class TimeDistributed(nn.Module):\n",
    "    # Reference: https://discuss.pytorch.org/t/any-pytorch-function-can-work-as-keras-timedistributed/1346/4\n",
    "\n",
    "    def __init__(self, module, batch_first=False):\n",
    "        super(TimeDistributed, self).__init__()\n",
    "        self.module = module\n",
    "        self.batch_first = batch_first\n",
    "\n",
    "    def forward(self, x):\n",
    "\n",
    "        if len(x.size()) <= 2:\n",
    "            return self.module(x)\n",
    "\n",
    "        # Squash samples and timesteps into a single axis\n",
    "        x_reshape = x.contiguous().view(\n",
    "            -1, x.size(-1)\n",
    "        )  # (samples * timesteps, input_size)\n",
    "\n",
    "        y = self.module(x_reshape)\n",
    "\n",
    "        # We have to reshape Y\n",
    "        if self.batch_first:\n",
    "            y = y.contiguous().view(\n",
    "                x.size(0), -1, y.size(-1)\n",
    "            )  # (samples, timesteps, output_size)\n",
    "        else:\n",
    "            y = y.view(-1, x.size(1), y.size(-1))  # (timesteps, samples, output_size)\n",
    "\n",
    "        return y\n",
    "\n",
    "\n",
    "class LSTM_decoder(nn.Module):\n",
    "    def __init__(\n",
    "        self,\n",
    "        latent_dim,\n",
    "        feature_dim,\n",
    "        lstm_hidden_dim,\n",
    "        fc_hidden_dims,\n",
    "        num_lstm_layers=1,\n",
    "        output_dim=1,\n",
    "        p=0.2,\n",
    "    ):\n",
    "        super(LSTM_decoder, self).__init__()\n",
    "\n",
    "        self.latent_dim = latent_dim\n",
    "        self.feature_dim = feature_dim\n",
    "        self.lstm_hidden_dim = lstm_hidden_dim\n",
    "        self.num_lstm_layers = num_lstm_layers\n",
    "\n",
    "        self.lstm = nn.LSTM(\n",
    "            self.feature_dim + self.latent_dim,\n",
    "            self.lstm_hidden_dim,\n",
    "            num_layers=self.num_lstm_layers,\n",
    "            batch_first=True,\n",
    "        )\n",
    "\n",
    "        # LSTM to latent code\n",
    "        self.fc_hidden_dims = fc_hidden_dims\n",
    "        self.fc_layers = []\n",
    "        self.p = p\n",
    "        for i in range((len(self.fc_hidden_dims))):\n",
    "            in_dim = self.lstm_hidden_dim if i == 0 else self.fc_hidden_dims[i - 1]\n",
    "            out_dim = self.fc_hidden_dims[i]\n",
    "\n",
    "            self.fc_layers += [nn.Linear(in_dim, out_dim)]\n",
    "            self.fc_layers += [nn.ReLU()]\n",
    "            self.fc_layers += [nn.Dropout(p=self.p)]\n",
    "\n",
    "        self.output_dim = output_dim\n",
    "        self.fc_layers += [nn.Linear(self.fc_hidden_dims[-1], self.output_dim)]\n",
    "\n",
    "        self.fc_layers = TimeDistributed(\n",
    "            nn.Sequential(*self.fc_layers), batch_first=True\n",
    "        )\n",
    "\n",
    "    def forward(self, inputs, base_length=365):\n",
    "        out, (_, _) = self.lstm(inputs)\n",
    "        out = self.fc_layers(out[:, base_length:, :])\n",
    "\n",
    "        return out\n",
    "\n",
    "    def decode(self, code, x):\n",
    "\n",
    "        code = code.expand(x.shape[1], -1, -1).transpose(0, 1)\n",
    "\n",
    "        x = torch.cat((code, x), 2)\n",
    "        out = self.forward(x).squeeze()\n",
    "\n",
    "        return out\n"
   ]
  },
  {
   "cell_type": "code",
   "execution_count": 5,
   "metadata": {},
   "outputs": [],
   "source": [
    "latent_dim=8\n",
    "forcing_dim=3\n",
    "lstm_hidden_dim=64\n",
    "fc_hidden_dims=[16,3]\n",
    "n_lstm_layers=1\n",
    "p=0\n",
    "\n",
    "n_catchments=559"
   ]
  },
  {
   "cell_type": "code",
   "execution_count": 6,
   "metadata": {},
   "outputs": [],
   "source": [
    "decoder = LSTM_decoder(\n",
    "    latent_dim=latent_dim,\n",
    "    feature_dim=forcing_dim,\n",
    "    lstm_hidden_dim=lstm_hidden_dim,\n",
    "    fc_hidden_dims=fc_hidden_dims,\n",
    "    num_lstm_layers=n_lstm_layers,\n",
    "    output_dim=1,\n",
    "    p=p,\n",
    ")\n",
    "\n",
    "embedding = nn.Embedding(n_catchments, latent_dim)"
   ]
  },
  {
   "cell_type": "code",
   "execution_count": 7,
   "metadata": {},
   "outputs": [],
   "source": [
    "embedding, decoder = embedding.to(computing_device), decoder.to(\n",
    "    computing_device\n",
    ")\n",
    "\n",
    "lr_embedding = 1e-3\n",
    "embedding_optimizer = optim.Adam(embedding.parameters(), lr=lr_embedding)\n",
    "\n",
    "lr_decoder = 1e-3\n",
    "decoder_optimizer = optim.Adam(decoder.parameters(), lr=lr_decoder)\n",
    "\n",
    "batch_size = 64\n",
    "\n",
    "# define optimal epochs\n",
    "epochs = 25\n",
    "\n",
    "    # steps per epoch\n",
    "steps = round(n_catchments * TRAIN_YEAR / batch_size)\n",
    "\n",
    "    # train model\n",
    "for epoch in range(epochs):\n",
    "\n",
    "    # for each epoch get_random_batch method generates a batch that contains one year data for each catchment\n",
    "    # repeat TRAIN_YEAR times to finish an epoch\n",
    "    decoder.train()\n",
    "    embedding.train()\n",
    "\n",
    "    for step in range(steps):\n",
    "\n",
    "        decoder_optimizer.zero_grad()\n",
    "        embedding_optimizer.zero_grad()\n",
    "\n",
    "        # put the models into training mode\n",
    "        decoder.train()\n",
    "        embedding.train()\n",
    "\n",
    "        # get training batch and pass to device\n",
    "        (x_batch, y_batch, selected_catchments) = dtrain.get_random_batch(\n",
    "            batch_size\n",
    "        )\n",
    "\n",
    "        x_batch, y_batch, selected_catchments = (\n",
    "            x_batch.to(computing_device),\n",
    "            y_batch.to(computing_device),\n",
    "            selected_catchments.to(computing_device),\n",
    "        )\n",
    "\n",
    "\n",
    "        code = embedding(selected_catchments)\n",
    "\n",
    "        # pass through decoder\n",
    "        out = decoder.decode(code, x_batch)\n",
    "\n",
    "        # compute loss\n",
    "        loss = training_fun.mse_loss_with_nans(out, y_batch)\n",
    "        \n",
    "        loss.backward()\n",
    "        embedding_optimizer.step()\n",
    "        decoder_optimizer.step()\n"
   ]
  },
  {
   "cell_type": "markdown",
   "metadata": {},
   "source": [
    "## Testing"
   ]
  },
  {
   "cell_type": "code",
   "execution_count": null,
   "metadata": {},
   "outputs": [],
   "source": [
    "embedding.eval()\n",
    "decoder.eval()\n",
    "\n",
    "# dimension of embedding\n",
    "catchment_embeddings=[x.data for x in embedding.parameters()][0]"
   ]
  },
  {
   "cell_type": "code",
   "execution_count": null,
   "metadata": {},
   "outputs": [],
   "source": [
    "class Objective_builder:\n",
    "    def __init__(self, x, y, eval_fun):\n",
    "        self.eval_fun = eval_fun\n",
    "        self.x = x.contiguous()\n",
    "        self.y = y.contiguous()\n",
    "    \n",
    "    def eval(self, code, return_summary = True):\n",
    "        \n",
    "        # numpy to torch tensor\n",
    "        code = torch.from_numpy(code).unsqueeze(0).to(dtype=torch.float32).to(computing_device)\n",
    "        code = code.expand(self.x.shape[0], -1)\n",
    "        \n",
    "        # BASE_LENGTH is from global\n",
    "        pred = decoder.decode(code, self.x).view(-1).detach().cpu().numpy()\n",
    "\n",
    "        ob = self.y.view(-1).detach().cpu().numpy()\n",
    "        \n",
    "        if return_summary:\n",
    "          gof = self.eval_fun(simulated_array=pred, observed_array=ob)\n",
    "          return gof\n",
    "        else:\n",
    "          return pred, ob"
   ]
  },
  {
   "cell_type": "code",
   "execution_count": null,
   "metadata": {},
   "outputs": [],
   "source": [
    "def val_model(\n",
    "    embedding,\n",
    "    decoder,\n",
    "    dataset,\n",
    "    storge_device,\n",
    "    val_metric\n",
    "):\n",
    "    \"\"\"Validate embedding and decoder using the validation batch from dataset and val_metric.\n",
    "    \"\"\"\n",
    "    x, y = dataset.get_val_batch()\n",
    "    x, y = x.to(storge_device), y.to(storge_device)\n",
    "\n",
    "    embedding.eval()\n",
    "    decoder.eval()\n",
    "\n",
    "    preds = torch.ones(size=y.shape, device=storge_device)\n",
    "\n",
    "    n_catchments = y.shape[1]\n",
    "    selected_catchments = torch.arange(n_catchments)\n",
    "\n",
    "    with torch.no_grad():\n",
    "        code = embedding(selected_catchments)\n",
    "        for i in range(x.shape[0]):\n",
    "            x_sub = x[i, :, :, :]\n",
    "            preds[i, :, :] = decoder.decode(code, x_sub)\n",
    "            \n",
    "    # reshape to compute performance\n",
    "    y_reshape = y.swapaxes(0,1).reshape(n_catchments,-1).detach().to(\"cpu\").numpy()\n",
    "    preds_reshape = preds.swapaxes(0,1).reshape(n_catchments,-1).detach().to(\"cpu\").numpy()\n",
    "    \n",
    "    scores = np.ones(n_catchments)\n",
    "    \n",
    "    for i in range(n_catchments):\n",
    "        scores[i] = val_metric(observed_array=y_reshape[i,:], simulated_array=preds_reshape[i,:])\n",
    "    \n",
    "    return scores"
   ]
  },
  {
   "cell_type": "code",
   "execution_count": null,
   "metadata": {},
   "outputs": [],
   "source": [
    "test_scores = val_model(\n",
    "    embedding=embedding,\n",
    "    decoder=decoder,\n",
    "    dataset=dval,\n",
    "    storge_device=storge_device,\n",
    "    val_metric=HydroErr.kge_2009\n",
    ")"
   ]
  },
  {
   "cell_type": "code",
   "execution_count": null,
   "metadata": {},
   "outputs": [
    {
     "data": {
      "text/plain": [
       "array([ 8.49477726e-01,  7.88288976e-01,  7.14501322e-01,  6.24496246e-01,\n",
       "        6.55122002e-01,  7.30171184e-01,  6.39407608e-01,  6.36405612e-01,\n",
       "        7.53396529e-01,  7.79519922e-01,  8.33260217e-01,  6.83586536e-01,\n",
       "        7.41847648e-01,  7.81623356e-01,  6.30141830e-01,  8.08067877e-01,\n",
       "        6.98187168e-01,  6.65506874e-01,  8.92676538e-01,  7.69747497e-01,\n",
       "        8.39228521e-01,  6.94960853e-01,  6.85942419e-01,  6.11796012e-01,\n",
       "        7.92755322e-01,  5.25853329e-01,  7.70818864e-01,  6.44104884e-01,\n",
       "        6.09129316e-01,  5.80647542e-01,  5.21693278e-01,  7.73720998e-01,\n",
       "        7.44858832e-01,  7.65666491e-01,  7.78849952e-01,  7.12913286e-01,\n",
       "        7.51564607e-01,  7.92035407e-01,  8.66370803e-01,  7.22147369e-01,\n",
       "        6.86665268e-01, -1.03616074e-01,  7.24256012e-01,  5.54424143e-01,\n",
       "        7.19364522e-01,  4.65694064e-01,  6.75721440e-01,  7.24769523e-01,\n",
       "        6.62376164e-01,  7.06443872e-01,  7.60949362e-01,  7.05461955e-01,\n",
       "        5.48609723e-01,  6.25636000e-01,  8.22514241e-01,  7.33484262e-01,\n",
       "        7.65131859e-01,  6.46812945e-01,  7.89721508e-01,  5.30320075e-01,\n",
       "        4.91595939e-01,  7.64828389e-01,  8.09227416e-01,  6.45969648e-01,\n",
       "        6.39537396e-01,  6.18665849e-01,  7.29872462e-01,  4.71726220e-01,\n",
       "        6.30890218e-01,  6.10604308e-01,  7.23470639e-01,  4.85311912e-01,\n",
       "        8.10268777e-01,  7.10438583e-01,  8.13825457e-01,  7.55905722e-01,\n",
       "        8.28744215e-01,  9.19711104e-01,  8.27848711e-01,  6.49359325e-01,\n",
       "        5.84308296e-01,  5.43545198e-01,  8.30658697e-01,  8.19663899e-01,\n",
       "        8.13853439e-01,  7.46554664e-01,  5.34526733e-01,  7.36091034e-01,\n",
       "        8.51370166e-01,  7.62306469e-01,  6.85574244e-01,  4.52964736e-01,\n",
       "        5.91126114e-01,  5.34853495e-01,  6.72962695e-01,  6.06501549e-01,\n",
       "        7.84484147e-01,  7.52343071e-01,  7.20405413e-01,  7.22949739e-01,\n",
       "        6.39573600e-01,  8.34710591e-01,  7.04870830e-01,  6.14598070e-01,\n",
       "        5.73096876e-01,  5.85113706e-01,  5.08093691e-01,  8.30223580e-01,\n",
       "        5.87430348e-01,  6.05006020e-01,  2.98729630e-01,  7.98450437e-01,\n",
       "        2.83876412e-01,  6.43047071e-01,  6.71447748e-01,  1.96301467e-01,\n",
       "        7.74422259e-01,  4.64729886e-01,  7.58337721e-01,  7.56657926e-01,\n",
       "        2.13338729e-01,  7.07188132e-01,  6.45200402e-01,  7.29328589e-01,\n",
       "        5.80309472e-01,  2.09985547e-01,  5.26849812e-01,  6.22393049e-01,\n",
       "        6.68044463e-01,  6.51784653e-01,  5.47072211e-01,  7.85125697e-01,\n",
       "        7.12777736e-01,  3.85518725e-01,  6.57203190e-01,  4.75489945e-01,\n",
       "        6.45854639e-01,  7.05727140e-01,  7.31394158e-01,  4.40940838e-01,\n",
       "        6.46600109e-01,  8.20772926e-01,  6.78766189e-01,  6.79936947e-01,\n",
       "        7.30352285e-01,  7.25371721e-01,  7.58263885e-01, -2.13649489e-01,\n",
       "        5.44524443e-01,  7.08515533e-01,  8.73825818e-01,  7.58389287e-01,\n",
       "        7.35441134e-01,  7.72610682e-01,  8.25303060e-01,  7.14354640e-01,\n",
       "        7.80345300e-01,  5.01256416e-01,  8.07698811e-01,  7.55790824e-01,\n",
       "        7.01523960e-01,  5.84817416e-01,  6.73146793e-01,  6.83545348e-01,\n",
       "        8.23186438e-01,  7.64737575e-01,  7.54265380e-01,  4.60896541e-01,\n",
       "        7.47003060e-01,  6.01237820e-01,  6.05605248e-01,  6.44619052e-01,\n",
       "        7.21678839e-01,  6.12729997e-01,  7.52964808e-01,  7.77061252e-01,\n",
       "        8.80119577e-01,  7.55851621e-01,  7.89370716e-01,  4.22521026e-01,\n",
       "        4.57441686e-01,  6.26390479e-01,  4.15742761e-01,  2.87808423e-01,\n",
       "        3.04622138e-01,  8.58908289e-01,  8.06369158e-01,  6.71737442e-01,\n",
       "        7.17525915e-01,  8.67997442e-01,  6.24154661e-01,  6.33444654e-01,\n",
       "        5.91512401e-01,  6.88509513e-01,  6.50925854e-01,  6.85751922e-01,\n",
       "        7.17759539e-01,  6.90547506e-01,  7.51731943e-01,  5.84745996e-01,\n",
       "        5.68092545e-01,  5.68421423e-01,  6.21449413e-01,  6.77202362e-01,\n",
       "        5.80938974e-01,  5.64502124e-01,  7.88440562e-01,  7.52809762e-01,\n",
       "        7.97459862e-01,  8.78357380e-01,  7.90237099e-01,  8.26112149e-01,\n",
       "        5.89087644e-01,  7.17417553e-01,  6.59508990e-01,  8.29690646e-01,\n",
       "        8.26585468e-01,  6.95969293e-01,  5.59305493e-01,  6.39676116e-01,\n",
       "        7.21689658e-01,  6.01274584e-01,  5.42266015e-01,  7.06383246e-01,\n",
       "        6.97431197e-01,  7.12294065e-01,  4.65831554e-01,  7.44288954e-01,\n",
       "        5.98754808e-01,  5.77475461e-01,  6.82866903e-01,  5.51043560e-01,\n",
       "        5.93286560e-01, -7.20692264e-01,  4.01967486e-01,  3.86916304e-01,\n",
       "       -7.76254097e-01, -2.14485334e-01, -2.44099392e+00,  4.64110922e-01,\n",
       "        6.74492189e-01,  5.61383898e-01,  5.65607484e-01,  4.64255441e-01,\n",
       "        5.73948273e-01,  6.10622797e-01,  5.88180209e-01,  7.64885748e-01,\n",
       "        4.16279751e-01,  6.99020036e-01,  8.08897938e-01,  7.90724558e-01,\n",
       "       -4.19492079e-01,  1.82960516e-01, -1.89707254e+00,  2.09699193e-01,\n",
       "        2.38904519e-01,  2.47237719e-01,  5.52669963e-01,  6.00024645e-01,\n",
       "        3.90199339e-01,  5.00864853e-01,  3.91970414e-01,  4.64353607e-01,\n",
       "        6.02824156e-02,  5.46621318e-01,  5.92982873e-01,  5.06934428e-01,\n",
       "        7.52971977e-01,  4.44638411e-01,  5.60845554e-01,  4.91249073e-01,\n",
       "        5.22693655e-01,  3.96462970e-01,  6.94208135e-01,  3.37305174e-01,\n",
       "        3.73338913e-01,  3.66945738e-01,  4.44907645e-01,  6.12993381e-01,\n",
       "        8.07143056e-01,  6.71376179e-01,  5.68366145e-01,  5.57759089e-01,\n",
       "        5.52338432e-01,  3.12591288e-01,  5.12726076e-01,  3.86101371e-01,\n",
       "        2.87122125e-01, -8.50651930e-01,  8.84746974e-01,  4.24435976e-01,\n",
       "        6.86238390e-01,  5.83114173e-01,  5.91313196e-01,  6.62972658e-01,\n",
       "        5.23059086e-01,  7.38904921e-01,  5.14554020e-01,  7.19319911e-01,\n",
       "       -1.14063548e+00, -4.37294045e-01, -9.07183502e-01, -5.74046851e-01,\n",
       "       -1.56828370e+00, -5.93464621e-01, -3.47015820e-01, -4.65524370e-01,\n",
       "       -1.51434043e-02,  5.42092683e-01,  8.11952976e-01, -6.19081150e+00,\n",
       "        1.35906369e-01,  2.13485288e-02,  3.11614381e-01, -1.23109668e+00,\n",
       "       -2.67032155e+00, -2.69763557e-02, -5.28337464e-01,  4.20448964e-01,\n",
       "        2.32842074e-01, -3.66940202e-01, -3.00000418e-01, -5.58517554e-02,\n",
       "       -1.38248776e+00,  2.12469487e-01,  4.41205027e-01,  9.28037366e-01,\n",
       "        7.14718404e-01,  7.34920037e-01,  6.40152795e-01, -1.08274982e-01,\n",
       "       -5.60466148e-01,  4.88374167e-01,  2.69764224e-01, -1.34530999e+01,\n",
       "       -5.90016916e-01, -5.34951646e-01, -5.76466734e-02,  3.93457889e-01,\n",
       "        1.82419150e-01,  5.40751326e-01,  5.60700756e-01,  5.13906052e-01,\n",
       "        5.28014140e-01,  5.70810458e-01,  5.85475136e-01,  4.37901429e-01,\n",
       "        1.15573791e-01,  7.55409188e-01,  4.21529089e-01,  1.67193379e-01,\n",
       "        4.84470278e-01,  4.72928653e-01,  3.87915012e-01,  6.72009336e-01,\n",
       "        4.81133156e-01,  4.04022092e-01,  6.74538263e-01,  4.35647385e-01,\n",
       "       -5.25555490e-01,  5.86300704e-01, -2.15773830e+01,  3.72701325e-02,\n",
       "       -6.33809643e-01, -4.73820385e-01,  5.27476845e-01,  2.43582263e-01,\n",
       "        5.98935563e-01,  3.91877899e-01,  6.02445702e-01,  3.92087430e-01,\n",
       "        6.75269081e-01,  4.90670450e-01, -6.41444368e+01,  4.87225743e-01,\n",
       "        6.55423829e-01,  7.16770932e-01,  7.06334108e-01,  7.81302125e-01,\n",
       "        7.09773662e-01, -2.61716371e-01, -3.82835461e+00, -4.45210287e+00,\n",
       "       -6.06296055e-01,  4.78585014e-01,  4.72078457e-01,  7.37464175e-01,\n",
       "        3.85047629e-01,  7.07016906e-01,  5.03382651e-01,  6.98246582e-01,\n",
       "        7.49415210e-01,  5.97196453e-01,  5.73036980e-01,  5.44967574e-01,\n",
       "        4.56275044e-01, -5.76965972e-01,  7.18780088e-01,  3.45488248e-01,\n",
       "        4.52439349e-01,  4.45409457e-01, -8.69406101e+00, -5.84155975e+00,\n",
       "       -1.37873422e-01, -3.13924539e-01,  5.90160002e-01,  5.25403011e-01,\n",
       "        4.60513430e-01,  1.45531667e-01, -2.28947010e+00,  4.41641524e-01,\n",
       "        5.78205446e-01,  3.29415462e-01,  6.16534657e-01,  6.44655144e-01,\n",
       "       -1.94829047e+00,  6.20682330e-01,  6.62427855e-01,  4.19731213e-01,\n",
       "        4.25692080e-01, -8.54559705e-02,  8.24895793e-01, -1.58292770e+00,\n",
       "       -7.10465678e+00,  8.02499276e-01,  5.35535395e-01, -6.16084236e-01,\n",
       "        6.35285040e-01, -4.78726198e-01,  8.54984973e-01,  4.77651326e-01,\n",
       "        7.09648836e-01, -9.89354928e-01,  5.36470400e-01,  3.74174543e-01,\n",
       "        6.87824330e-01,  8.69588065e-01,  7.09826928e-01,  9.02495065e-01,\n",
       "        6.82901271e-01,  9.23138401e-01,  6.54918435e-01,  4.94514195e-01,\n",
       "        8.79661699e-01,  8.24857447e-01,  6.27179689e-01, -1.31355986e-02,\n",
       "        6.73131821e-01,  5.76902256e-01,  2.85249753e-01, -8.33515799e-01,\n",
       "        1.00234411e-01, -4.58781784e-01,  2.52901403e-01, -6.99998402e+00,\n",
       "        5.70864072e-01, -6.00788100e+00,  4.05720227e-01, -2.24483111e-01,\n",
       "        1.06442979e-01,  2.52573759e-01,  4.14445019e-01, -1.48271128e+00,\n",
       "        8.64674205e-02, -1.66215237e-03, -2.99976449e-01,  7.60462973e-01,\n",
       "        5.18114678e-01,  1.88699485e-01,  3.96941970e-01,  7.61394471e-01,\n",
       "        6.26321280e-01, -4.43831102e-01,  6.83863559e-01,  6.44779524e-01,\n",
       "        6.04502273e-01, -1.19238424e-01,  6.74476240e-01,  5.91350080e-01,\n",
       "        7.39904233e-01,  6.96876118e-01,  7.60571586e-01,  8.72013586e-01,\n",
       "        4.60908349e-01,  5.10677991e-01,  8.06928007e-01,  8.09539552e-01,\n",
       "        6.26186585e-01,  8.24827040e-01,  7.81002798e-01,  7.98142982e-01,\n",
       "        8.45975288e-01,  7.07558432e-01,  8.15755175e-01,  7.73516839e-01,\n",
       "        8.17321618e-01,  8.06748762e-01,  6.72210703e-01,  8.23307626e-01,\n",
       "        8.72159982e-01,  8.35254705e-01,  8.31605961e-01,  8.31715659e-01,\n",
       "        8.06056409e-01,  8.65579326e-01,  8.17926022e-01,  8.33048688e-01,\n",
       "        8.19165233e-01,  8.74018670e-01,  7.60057275e-01,  8.25132816e-01,\n",
       "        8.42008792e-01,  9.36211847e-01,  8.09071909e-01,  8.20172495e-01,\n",
       "        3.28544263e-01,  7.63175327e-01,  8.06475508e-01,  7.83128308e-01,\n",
       "        2.17737391e-01,  8.58915521e-01,  5.35603164e-01,  6.89245751e-01,\n",
       "        8.12818379e-01,  7.52833222e-01,  6.67159777e-01,  4.60388093e-01,\n",
       "        4.31306083e-01,  7.96980739e-01,  6.63172588e-01,  1.25881126e-01,\n",
       "        6.17488817e-01,  4.10702025e-01,  8.96482770e-01,  6.98909357e-01,\n",
       "        7.31644381e-01,  6.82553214e-01,  6.55100629e-01,  8.14628035e-01,\n",
       "        6.96125422e-01,  5.22800037e-01,  6.43607415e-02,  8.98620123e-01,\n",
       "        7.68317293e-01,  9.27479461e-01,  8.12484146e-01,  7.68908119e-01,\n",
       "        7.83206165e-01,  9.14850962e-01,  8.61629069e-01,  8.71564214e-01,\n",
       "        8.84874191e-01,  9.06936816e-01,  7.00326801e-01,  8.68413057e-01,\n",
       "        9.07587257e-01,  8.86031822e-01,  7.84778748e-01])"
      ]
     },
     "execution_count": 93,
     "metadata": {},
     "output_type": "execute_result"
    }
   ],
   "source": [
    "test_scores"
   ]
  },
  {
   "cell_type": "code",
   "execution_count": null,
   "metadata": {},
   "outputs": [
    {
     "data": {
      "text/plain": [
       "(array([ 1.,  1.,  2.,  1.,  1.,  3.,  5.,  4.,  6.,  1.,  4.,  2.,  2.,\n",
       "         4.,  4.,  5.,  4.,  5., 10., 11.,  8., 26., 34., 41., 59., 64.,\n",
       "        78., 74., 56., 21.]),\n",
       " array([-0.98935493, -0.92516937, -0.86098381, -0.79679825, -0.73261269,\n",
       "        -0.66842713, -0.60424157, -0.54005601, -0.47587045, -0.4116849 ,\n",
       "        -0.34749934, -0.28331378, -0.21912822, -0.15494266, -0.0907571 ,\n",
       "        -0.02657154,  0.03761402,  0.10179958,  0.16598514,  0.2301707 ,\n",
       "         0.29435626,  0.35854181,  0.42272737,  0.48691293,  0.55109849,\n",
       "         0.61528405,  0.67946961,  0.74365517,  0.80784073,  0.87202629,\n",
       "         0.93621185]),\n",
       " <BarContainer object of 30 artists>)"
      ]
     },
     "execution_count": 97,
     "metadata": {},
     "output_type": "execute_result"
    },
    {
     "data": {
      "image/png": "[encoded data removed]",
      "text/plain": [
       "<Figure size 640x480 with 1 Axes>"
      ]
     },
     "metadata": {},
     "output_type": "display_data"
    }
   ],
   "source": [
    "import matplotlib.pyplot as plt\n",
    "\n",
    "plt.hist(test_scores[test_scores>-1], bins=30)"
   ]
  },
  {
   "cell_type": "code",
   "execution_count": null,
   "metadata": {},
   "outputs": [
    {
     "data": {
      "text/plain": [
       "(559, 0.22202271687383954, 0.6301418296276005)"
      ]
     },
     "execution_count": 98,
     "metadata": {},
     "output_type": "execute_result"
    }
   ],
   "source": [
    "test_scores[~np.isnan(test_scores)].__len__(), np.mean(test_scores[~np.isnan(test_scores)]), np.median(test_scores[~np.isnan(test_scores)])"
   ]
  },
  {
   "cell_type": "markdown",
   "metadata": {},
   "source": [
    "## TSNE"
   ]
  },
  {
   "cell_type": "code",
   "execution_count": 23,
   "metadata": {},
   "outputs": [],
   "source": [
    "embedding_matrix = catchment_embeddings.detach().to(\"cpu\").numpy()"
   ]
  },
  {
   "cell_type": "code",
   "execution_count": 24,
   "metadata": {},
   "outputs": [],
   "source": [
    "from sklearn.manifold import TSNE"
   ]
  },
  {
   "cell_type": "code",
   "execution_count": 25,
   "metadata": {},
   "outputs": [],
   "source": [
    "X_embedded = TSNE(n_components=2, learning_rate='auto', init='random', perplexity=20,n_iter=5000).fit_transform(embedding_matrix)"
   ]
  },
  {
   "cell_type": "code",
   "execution_count": 26,
   "metadata": {},
   "outputs": [
    {
     "data": {
      "text/plain": [
       "[<matplotlib.lines.Line2D at 0x7fd543e5d4b0>]"
      ]
     },
     "execution_count": 26,
     "metadata": {},
     "output_type": "execute_result"
    },
    {
     "data": {
      "image/png": "[encoded data removed]",
      "text/plain": [
       "<Figure size 640x480 with 1 Axes>"
      ]
     },
     "metadata": {},
     "output_type": "display_data"
    }
   ],
   "source": [
    "import matplotlib.pyplot as plt\n",
    "\n",
    "plt.plot(X_embedded[:,0],X_embedded[:,1], \"o\")"
   ]
  },
  {
   "cell_type": "code",
   "execution_count": 27,
   "metadata": {},
   "outputs": [
    {
     "ename": "NameError",
     "evalue": "name 'test_metrics' is not defined",
     "output_type": "error",
     "traceback": [
      "\u001b[0;31m---------------------------------------------------------------------------\u001b[0m",
      "\u001b[0;31mNameError\u001b[0m                                 Traceback (most recent call last)",
      "Input \u001b[0;32mIn [27]\u001b[0m, in \u001b[0;36m<cell line: 3>\u001b[0;34m()\u001b[0m\n\u001b[1;32m      1\u001b[0m \u001b[38;5;28;01mimport\u001b[39;00m \u001b[38;5;21;01mmatplotlib\u001b[39;00m\u001b[38;5;21;01m.\u001b[39;00m\u001b[38;5;21;01mpyplot\u001b[39;00m \u001b[38;5;28;01mas\u001b[39;00m \u001b[38;5;21;01mplt\u001b[39;00m\n\u001b[0;32m----> 3\u001b[0m plt\u001b[38;5;241m.\u001b[39mplot(\u001b[43mtest_metrics\u001b[49m\u001b[38;5;241m.\u001b[39mdetach()\u001b[38;5;241m.\u001b[39mto(\u001b[38;5;124m\"\u001b[39m\u001b[38;5;124mcpu\u001b[39m\u001b[38;5;124m\"\u001b[39m)\u001b[38;5;241m.\u001b[39mnumpy()[\u001b[38;5;241m999\u001b[39m,:])\n",
      "\u001b[0;31mNameError\u001b[0m: name 'test_metrics' is not defined"
     ]
    }
   ],
   "source": [
    "import matplotlib.pyplot as plt\n",
    "\n",
    "plt.plot(test_metrics.detach().to(\"cpu\").numpy()[999,:])"
   ]
  },
  {
   "cell_type": "code",
   "execution_count": 48,
   "metadata": {},
   "outputs": [],
   "source": [
    "y_reshape = y.swapaxes(0,1).reshape(2055,-1)"
   ]
  },
  {
   "cell_type": "code",
   "execution_count": 56,
   "metadata": {},
   "outputs": [
    {
     "data": {
      "text/plain": [
       "[<matplotlib.lines.Line2D at 0x155c691d0>]"
      ]
     },
     "execution_count": 56,
     "metadata": {},
     "output_type": "execute_result"
    },
    {
     "data": {
      "image/png": "[encoded data removed]",
      "text/plain": [
       "<Figure size 640x480 with 1 Axes>"
      ]
     },
     "metadata": {},
     "output_type": "display_data"
    }
   ],
   "source": [
    "plt.plot(y_reshape.detach().to(\"cpu\").numpy()[1000,:])"
   ]
  }
 ],
 "metadata": {
  "kernelspec": {
   "display_name": "pytorch-env",
   "language": "python",
   "name": "python3"
  },
  "language_info": {
   "codemirror_mode": {
    "name": "ipython",
    "version": 3
   },
   "file_extension": ".py",
   "mimetype": "text/x-python",
   "name": "python",
   "nbconvert_exporter": "python",
   "pygments_lexer": "ipython3",
   "version": "3.10.4"
  },
  "vscode": {
   "interpreter": {
    "hash": "1ddfd6d42648f68c476c776315986cac60a18b45e56ba9b8a233e8441d39da2b"
   }
  }
 },
 "nbformat": 4,
 "nbformat_minor": 4
}
